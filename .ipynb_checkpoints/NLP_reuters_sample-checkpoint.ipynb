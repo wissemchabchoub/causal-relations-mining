{
 "cells": [
  {
   "cell_type": "code",
   "execution_count": 1,
   "metadata": {},
   "outputs": [],
   "source": [
    "%load_ext autoreload\n",
    "%autoreload 2\n",
    "\n",
    "from IPython.core.display import display, HTML\n",
    "display(HTML(\"<style>.container { width:60% !important; }</style>\"))\n",
    "\n",
    "import warnings\n",
    "warnings.filterwarnings('ignore')\n",
    "\n",
    "import logging\n",
    "logger = logging.getLogger()\n",
    "logger.setLevel(logging.CRITICAL)\n",
    "\n",
    "from src.causality import Causality\n",
    "import pandas as pd"
   ]
  },
  {
   "cell_type": "markdown",
   "metadata": {},
   "source": [
    "## Description\n",
    "\n",
    "In this notebook, we load a sample coprus (NLTK's reuters) and apply the causality mining algorithm on it.\n",
    "The goal is to find causality relations between the following entities : \n",
    "\n",
    "* dollar\n",
    "* inflation\n",
    "* export\n",
    "* oil\n",
    "* import\n",
    "\n",
    "Each relation will annotated : **cause, effect, cause direction, effect direction**"
   ]
  },
  {
   "cell_type": "markdown",
   "metadata": {},
   "source": [
    "## Prepare sentences"
   ]
  },
  {
   "cell_type": "code",
   "execution_count": 2,
   "metadata": {},
   "outputs": [],
   "source": [
    "corpus_df = Causality.get_sample_corpus_df()"
   ]
  },
  {
   "cell_type": "code",
   "execution_count": 3,
   "metadata": {},
   "outputs": [],
   "source": [
    "len(corpus_df)"
   ]
  },
  {
   "cell_type": "code",
   "execution_count": 4,
   "metadata": {},
   "outputs": [],
   "source": [
    "corpus_df.head(10)"
   ]
  },
  {
   "cell_type": "markdown",
   "metadata": {},
   "source": [
    "## Causalities"
   ]
  },
  {
   "cell_type": "code",
   "execution_count": 5,
   "metadata": {
    "scrolled": true
   },
   "outputs": [],
   "source": [
    "causality_detector = Causality(corpus_df)"
   ]
  },
  {
   "cell_type": "code",
   "execution_count": 6,
   "metadata": {},
   "outputs": [],
   "source": [
    "nodes = ['dollar','inflation','export','oil','import']\n",
    "\n",
    "data = causality_detector.create_data(nodes,'data/data_reuters.p')"
   ]
  },
  {
   "cell_type": "code",
   "execution_count": 7,
   "metadata": {},
   "outputs": [
    {
     "data": {
      "text/html": [
       "<div>\n",
       "<style scoped>\n",
       "    .dataframe tbody tr th:only-of-type {\n",
       "        vertical-align: middle;\n",
       "    }\n",
       "\n",
       "    .dataframe tbody tr th {\n",
       "        vertical-align: top;\n",
       "    }\n",
       "\n",
       "    .dataframe thead th {\n",
       "        text-align: right;\n",
       "    }\n",
       "</style>\n",
       "<table border=\"1\" class=\"dataframe\">\n",
       "  <thead>\n",
       "    <tr style=\"text-align: right;\">\n",
       "      <th></th>\n",
       "      <th>date</th>\n",
       "      <th>sentence</th>\n",
       "      <th>cause</th>\n",
       "      <th>effect</th>\n",
       "      <th>directions</th>\n",
       "    </tr>\n",
       "  </thead>\n",
       "  <tbody>\n",
       "    <tr>\n",
       "      <th>0</th>\n",
       "      <td>2021-01-01</td>\n",
       "      <td>Commodities from gold to grains to cotton post...</td>\n",
       "      <td>dollar</td>\n",
       "      <td>inflation</td>\n",
       "      <td>(1, 1)</td>\n",
       "    </tr>\n",
       "    <tr>\n",
       "      <th>1</th>\n",
       "      <td>2021-01-01</td>\n",
       "      <td>Fed officials have long expressed concern that...</td>\n",
       "      <td>dollar</td>\n",
       "      <td>inflation</td>\n",
       "      <td>(0, 1)</td>\n",
       "    </tr>\n",
       "    <tr>\n",
       "      <th>2</th>\n",
       "      <td>2021-01-01</td>\n",
       "      <td>The OECD said that the [E1]dollar[/E1] fall ha...</td>\n",
       "      <td>dollar</td>\n",
       "      <td>inflation</td>\n",
       "      <td>(0, 1)</td>\n",
       "    </tr>\n",
       "    <tr>\n",
       "      <th>3</th>\n",
       "      <td>2021-01-01</td>\n",
       "      <td>They said the Fed is reluctant to lower short ...</td>\n",
       "      <td>dollar</td>\n",
       "      <td>inflation</td>\n",
       "      <td>(0, 1)</td>\n",
       "    </tr>\n",
       "    <tr>\n",
       "      <th>4</th>\n",
       "      <td>2021-01-01</td>\n",
       "      <td>Most economists predict growth slower than the...</td>\n",
       "      <td>dollar</td>\n",
       "      <td>inflation</td>\n",
       "      <td>(0, 1)</td>\n",
       "    </tr>\n",
       "    <tr>\n",
       "      <th>...</th>\n",
       "      <td>...</td>\n",
       "      <td>...</td>\n",
       "      <td>...</td>\n",
       "      <td>...</td>\n",
       "      <td>...</td>\n",
       "    </tr>\n",
       "    <tr>\n",
       "      <th>69</th>\n",
       "      <td>2021-01-01</td>\n",
       "      <td>The study cited two basic policy paths for the...</td>\n",
       "      <td>oil</td>\n",
       "      <td>import</td>\n",
       "      <td>(1, 0)</td>\n",
       "    </tr>\n",
       "    <tr>\n",
       "      <th>70</th>\n",
       "      <td>2021-01-01</td>\n",
       "      <td>But this rise was due entirely to the lower va...</td>\n",
       "      <td>oil</td>\n",
       "      <td>import</td>\n",
       "      <td>(1, 0)</td>\n",
       "    </tr>\n",
       "    <tr>\n",
       "      <th>71</th>\n",
       "      <td>2021-01-01</td>\n",
       "      <td>They say it would not only curb the growth of ...</td>\n",
       "      <td>import</td>\n",
       "      <td>oil</td>\n",
       "      <td>(1, 1)</td>\n",
       "    </tr>\n",
       "    <tr>\n",
       "      <th>72</th>\n",
       "      <td>2021-01-01</td>\n",
       "      <td>Yergin said he saw mounting support within Con...</td>\n",
       "      <td>import</td>\n",
       "      <td>oil</td>\n",
       "      <td>(1, 1)</td>\n",
       "    </tr>\n",
       "    <tr>\n",
       "      <th>73</th>\n",
       "      <td>2021-01-01</td>\n",
       "      <td>Herrington ' s proposed tax incentives for the...</td>\n",
       "      <td>import</td>\n",
       "      <td>oil</td>\n",
       "      <td>(0, 1)</td>\n",
       "    </tr>\n",
       "  </tbody>\n",
       "</table>\n",
       "<p>74 rows × 5 columns</p>\n",
       "</div>"
      ],
      "text/plain": [
       "         date                                           sentence   cause  \\\n",
       "0  2021-01-01  Commodities from gold to grains to cotton post...  dollar   \n",
       "1  2021-01-01  Fed officials have long expressed concern that...  dollar   \n",
       "2  2021-01-01  The OECD said that the [E1]dollar[/E1] fall ha...  dollar   \n",
       "3  2021-01-01  They said the Fed is reluctant to lower short ...  dollar   \n",
       "4  2021-01-01  Most economists predict growth slower than the...  dollar   \n",
       "..        ...                                                ...     ...   \n",
       "69 2021-01-01  The study cited two basic policy paths for the...     oil   \n",
       "70 2021-01-01  But this rise was due entirely to the lower va...     oil   \n",
       "71 2021-01-01  They say it would not only curb the growth of ...  import   \n",
       "72 2021-01-01  Yergin said he saw mounting support within Con...  import   \n",
       "73 2021-01-01  Herrington ' s proposed tax incentives for the...  import   \n",
       "\n",
       "       effect directions  \n",
       "0   inflation     (1, 1)  \n",
       "1   inflation     (0, 1)  \n",
       "2   inflation     (0, 1)  \n",
       "3   inflation     (0, 1)  \n",
       "4   inflation     (0, 1)  \n",
       "..        ...        ...  \n",
       "69     import     (1, 0)  \n",
       "70     import     (1, 0)  \n",
       "71        oil     (1, 1)  \n",
       "72        oil     (1, 1)  \n",
       "73        oil     (0, 1)  \n",
       "\n",
       "[74 rows x 5 columns]"
      ]
     },
     "execution_count": 7,
     "metadata": {},
     "output_type": "execute_result"
    }
   ],
   "source": [
    "data"
   ]
  },
  {
   "cell_type": "code",
   "execution_count": null,
   "metadata": {},
   "outputs": [],
   "source": []
  }
 ],
 "metadata": {
  "kernelspec": {
   "display_name": "Python 3",
   "language": "python",
   "name": "python3"
  },
  "language_info": {
   "codemirror_mode": {
    "name": "ipython",
    "version": 3
   },
   "file_extension": ".py",
   "mimetype": "text/x-python",
   "name": "python",
   "nbconvert_exporter": "python",
   "pygments_lexer": "ipython3",
   "version": "3.7.6"
  }
 },
 "nbformat": 4,
 "nbformat_minor": 4
}
